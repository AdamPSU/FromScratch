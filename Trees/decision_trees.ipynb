{
 "cells": [
  {
   "cell_type": "code",
   "execution_count": 1,
   "id": "eb989ceb",
   "metadata": {
    "_cell_guid": "b1076dfc-b9ad-4769-8c92-a6c4dae69d19",
    "_uuid": "8f2839f25d086af736a60e9eeb907d3b93b6e0e5",
    "execution": {
     "iopub.execute_input": "2024-09-23T23:48:06.902800Z",
     "iopub.status.busy": "2024-09-23T23:48:06.901625Z",
     "iopub.status.idle": "2024-09-23T23:48:07.856321Z",
     "shell.execute_reply": "2024-09-23T23:48:07.855137Z"
    },
    "papermill": {
     "duration": 0.962405,
     "end_time": "2024-09-23T23:48:07.858950",
     "exception": false,
     "start_time": "2024-09-23T23:48:06.896545",
     "status": "completed"
    },
    "tags": []
   },
   "outputs": [],
   "source": [
    "import numpy as np\n",
    "import pandas as pd \n",
    "\n",
    "import os"
   ]
  },
  {
   "cell_type": "code",
   "execution_count": 2,
   "id": "ea878a30",
   "metadata": {
    "execution": {
     "iopub.execute_input": "2024-09-23T23:48:07.865934Z",
     "iopub.status.busy": "2024-09-23T23:48:07.865422Z",
     "iopub.status.idle": "2024-09-23T23:48:07.872729Z",
     "shell.execute_reply": "2024-09-23T23:48:07.871061Z"
    },
    "papermill": {
     "duration": 0.0132,
     "end_time": "2024-09-23T23:48:07.875099",
     "exception": false,
     "start_time": "2024-09-23T23:48:07.861899",
     "status": "completed"
    },
    "tags": []
   },
   "outputs": [],
   "source": [
    "class Node: \n",
    "    def __init__(self, feature_index=None, threshold=None, left=None, \n",
    "                       right=None, info_gain=None, value=None):\n",
    "            \n",
    "        self.feature_index = feature_index \n",
    "        self.threshold = threshold \n",
    "        self.left = left \n",
    "        self.right = right \n",
    "        self.info_gain = info_gain \n",
    "        \n",
    "        self.value = value  "
   ]
  },
  {
   "cell_type": "code",
   "execution_count": 3,
   "id": "38698df1",
   "metadata": {
    "execution": {
     "iopub.execute_input": "2024-09-23T23:48:07.880925Z",
     "iopub.status.busy": "2024-09-23T23:48:07.879943Z",
     "iopub.status.idle": "2024-09-23T23:48:07.887455Z",
     "shell.execute_reply": "2024-09-23T23:48:07.885978Z"
    },
    "papermill": {
     "duration": 0.013182,
     "end_time": "2024-09-23T23:48:07.890139",
     "exception": false,
     "start_time": "2024-09-23T23:48:07.876957",
     "status": "completed"
    },
    "tags": []
   },
   "outputs": [],
   "source": [
    "class DecisionTreeClassifier:\n",
    "    def __init__(self, min_samples_split, max_depth): \n",
    "        self.root = None \n",
    "        \n",
    "        self.min_samples_split = min_samples_split\n",
    "        self.max_depth = max_depth \n",
    "        \n",
    "    def build_tree(self):\n",
    "        leaf_value = None \n",
    "        \n",
    "        return Node(value=leaf_value)\n",
    "    \n",
    "    def get_best_split(self):\n",
    "        return \n",
    "    \n",
    "    def calculate_leaf_value(self): \n",
    "        return "
   ]
  }
 ],
 "metadata": {
  "kaggle": {
   "accelerator": "none",
   "dataSources": [],
   "isGpuEnabled": false,
   "isInternetEnabled": true,
   "language": "python",
   "sourceType": "notebook"
  },
  "kernelspec": {
   "display_name": "Python 3",
   "language": "python",
   "name": "python3"
  },
  "language_info": {
   "codemirror_mode": {
    "name": "ipython",
    "version": 3
   },
   "file_extension": ".py",
   "mimetype": "text/x-python",
   "name": "python",
   "nbconvert_exporter": "python",
   "pygments_lexer": "ipython3",
   "version": "3.10.14"
  },
  "papermill": {
   "default_parameters": {},
   "duration": 4.373356,
   "end_time": "2024-09-23T23:48:08.412335",
   "environment_variables": {},
   "exception": null,
   "input_path": "__notebook__.ipynb",
   "output_path": "__notebook__.ipynb",
   "parameters": {},
   "start_time": "2024-09-23T23:48:04.038979",
   "version": "2.6.0"
  }
 },
 "nbformat": 4,
 "nbformat_minor": 5
}
