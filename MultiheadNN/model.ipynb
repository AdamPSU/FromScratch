{
 "cells": [
  {
   "cell_type": "code",
   "execution_count": 1,
   "id": "45fbb400",
   "metadata": {
    "_cell_guid": "b1076dfc-b9ad-4769-8c92-a6c4dae69d19",
    "_uuid": "8f2839f25d086af736a60e9eeb907d3b93b6e0e5",
    "execution": {
     "iopub.execute_input": "2024-11-17T04:48:08.898231Z",
     "iopub.status.busy": "2024-11-17T04:48:08.897369Z",
     "iopub.status.idle": "2024-11-17T04:48:14.626904Z",
     "shell.execute_reply": "2024-11-17T04:48:14.625841Z"
    },
    "papermill": {
     "duration": 5.736328,
     "end_time": "2024-11-17T04:48:14.629482",
     "exception": false,
     "start_time": "2024-11-17T04:48:08.893154",
     "status": "completed"
    },
    "tags": []
   },
   "outputs": [],
   "source": [
    "import numpy as np\n",
    "import pandas as pd\n",
    "import matplotlib.pyplot as plt\n",
    "\n",
    "import torch\n",
    "import torch.nn as nn\n",
    "import torch.optim as optim\n",
    "from torch.utils.data import DataLoader, TensorDataset\n",
    "from torchvision import datasets, transforms"
   ]
  },
  {
   "cell_type": "code",
   "execution_count": 2,
   "id": "f5a1ca2b",
   "metadata": {
    "execution": {
     "iopub.execute_input": "2024-11-17T04:48:14.636037Z",
     "iopub.status.busy": "2024-11-17T04:48:14.635544Z",
     "iopub.status.idle": "2024-11-17T04:48:29.199974Z",
     "shell.execute_reply": "2024-11-17T04:48:29.198925Z"
    },
    "papermill": {
     "duration": 14.569908,
     "end_time": "2024-11-17T04:48:29.202390",
     "exception": false,
     "start_time": "2024-11-17T04:48:14.632482",
     "status": "completed"
    },
    "tags": []
   },
   "outputs": [],
   "source": [
    "%%capture\n",
    "\n",
    "def load_data():\n",
    "    transform = transforms.Compose([transforms.ToTensor(),\n",
    "                                    transforms.Lambda(lambda x: x.view(-1))])\n",
    "\n",
    "    train_dataset = datasets.MNIST(root='./data', train=True, download=True, transform=transform)\n",
    "    test_dataset = datasets.MNIST(root='./data', train=False, download=True, transform=transform)\n",
    "\n",
    "    x_train_raw = train_dataset.data.numpy()\n",
    "    x_test_raw = test_dataset.data.numpy()\n",
    "\n",
    "    # Flatten to a 2D array where each row is a pixel (28*28 = 784 pixels) for a given image\n",
    "    x_train_reshaped = x_train_raw.reshape(-1, 784)\n",
    "    x_test_reshaped = x_test_raw.reshape(-1, 784) \n",
    "\n",
    "    # Normalize data between 0 and 1 (For Sigmoid & PCA later on)\n",
    "    x_train_normalized = x_train_reshaped / 255.0\n",
    "    x_test_normalized = x_test_reshaped / 255.0 \n",
    "\n",
    "    # Convert to tensor\n",
    "    x_train_tensor = torch.tensor(x_train_normalized, dtype=torch.float32), \n",
    "    x_test_tensor = torch.tensor(x_test_normalized, dtype=torch.float32)\n",
    "\n",
    "    return x_train_tensor[0], x_test_tensor[0]\n",
    "\n",
    "X_train, _ = load_data()\n",
    "X_train = X_train\n",
    "\n",
    "# Create DataLoaders for batch processing\n",
    "train_loader = DataLoader(TensorDataset(X_train), batch_size=64, shuffle=True)"
   ]
  },
  {
   "cell_type": "code",
   "execution_count": 3,
   "id": "59df9169",
   "metadata": {
    "execution": {
     "iopub.execute_input": "2024-11-17T04:48:29.208106Z",
     "iopub.status.busy": "2024-11-17T04:48:29.207712Z",
     "iopub.status.idle": "2024-11-17T04:48:29.215259Z",
     "shell.execute_reply": "2024-11-17T04:48:29.214339Z"
    },
    "papermill": {
     "duration": 0.012647,
     "end_time": "2024-11-17T04:48:29.217276",
     "exception": false,
     "start_time": "2024-11-17T04:48:29.204629",
     "status": "completed"
    },
    "tags": []
   },
   "outputs": [],
   "source": [
    "class MultiheadMLP(nn.Module): \n",
    "    def __init__(self): \n",
    "        super().__init__()\n",
    "\n",
    "        # Fully connected layers learning a shared representation for both tasks\n",
    "        self.shared_encoder = nn.Sequential(\n",
    "            nn.Linear(28 * 28, 128),\n",
    "            nn.ReLU(),\n",
    "            nn.Linear(128, 64),\n",
    "            nn.ReLU()\n",
    "        )\n",
    "\n",
    "        # Classification head for the 10 digits\n",
    "        self.digits_head = nn.Sequential(\n",
    "            nn.Linear(64, 32),\n",
    "            nn.ReLU(),\n",
    "            nn.Linear(32, 10),\n",
    "            nn.Softmax()\n",
    "        )\n",
    "\n",
    "        # Classification head to determine parity\n",
    "        self.parity_head = nn.Sequential(\n",
    "            nn.Linear(64, 16),\n",
    "            nn.ReLU(),\n",
    "            nn.Linear(16, 2),\n",
    "            nn.Softmax()\n",
    "        )\n",
    "\n",
    "    def forward(self, x):\n",
    "        # Shared base forward pass\n",
    "        shared_output = self.shared_encoder(x)\n",
    "        \n",
    "        # Task-specific heads\n",
    "        digits_output = self.digits_head(shared_output)\n",
    "        parity_output = self.parity_head(shared_output)\n",
    "        \n",
    "        return digits_output, parity_output\n",
    "        "
   ]
  },
  {
   "cell_type": "code",
   "execution_count": 4,
   "id": "483e7f52",
   "metadata": {
    "execution": {
     "iopub.execute_input": "2024-11-17T04:48:29.222700Z",
     "iopub.status.busy": "2024-11-17T04:48:29.222372Z",
     "iopub.status.idle": "2024-11-17T04:48:29.234846Z",
     "shell.execute_reply": "2024-11-17T04:48:29.234106Z"
    },
    "papermill": {
     "duration": 0.017567,
     "end_time": "2024-11-17T04:48:29.236875",
     "exception": false,
     "start_time": "2024-11-17T04:48:29.219308",
     "status": "completed"
    },
    "tags": []
   },
   "outputs": [],
   "source": [
    "model = MultiheadMLP()\n",
    "loss = nn.CrossEntropyLoss()\n",
    "optimizer = optim.Adam(model.parameters(), lr=0.001)"
   ]
  },
  {
   "cell_type": "code",
   "execution_count": null,
   "id": "59629d30",
   "metadata": {
    "papermill": {
     "duration": 0.001786,
     "end_time": "2024-11-17T04:48:29.240719",
     "exception": false,
     "start_time": "2024-11-17T04:48:29.238933",
     "status": "completed"
    },
    "tags": []
   },
   "outputs": [],
   "source": []
  }
 ],
 "metadata": {
  "kaggle": {
   "accelerator": "none",
   "dataSources": [],
   "dockerImageVersionId": 30786,
   "isGpuEnabled": false,
   "isInternetEnabled": true,
   "language": "python",
   "sourceType": "notebook"
  },
  "kernelspec": {
   "display_name": "Python 3",
   "language": "python",
   "name": "python3"
  },
  "language_info": {
   "codemirror_mode": {
    "name": "ipython",
    "version": 3
   },
   "file_extension": ".py",
   "mimetype": "text/x-python",
   "name": "python",
   "nbconvert_exporter": "python",
   "pygments_lexer": "ipython3",
   "version": "3.10.14"
  },
  "papermill": {
   "default_parameters": {},
   "duration": 24.12455,
   "end_time": "2024-11-17T04:48:30.263676",
   "environment_variables": {},
   "exception": null,
   "input_path": "__notebook__.ipynb",
   "output_path": "__notebook__.ipynb",
   "parameters": {},
   "start_time": "2024-11-17T04:48:06.139126",
   "version": "2.6.0"
  }
 },
 "nbformat": 4,
 "nbformat_minor": 5
}
