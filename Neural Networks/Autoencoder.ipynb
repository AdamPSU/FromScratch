{
 "cells": [
  {
   "cell_type": "code",
   "execution_count": 1,
   "id": "ce1da8f3",
   "metadata": {
    "_cell_guid": "b1076dfc-b9ad-4769-8c92-a6c4dae69d19",
    "_uuid": "8f2839f25d086af736a60e9eeb907d3b93b6e0e5",
    "execution": {
     "iopub.execute_input": "2024-11-08T04:40:23.346877Z",
     "iopub.status.busy": "2024-11-08T04:40:23.346254Z",
     "iopub.status.idle": "2024-11-08T04:40:33.979461Z",
     "shell.execute_reply": "2024-11-08T04:40:33.977886Z"
    },
    "papermill": {
     "duration": 10.641831,
     "end_time": "2024-11-08T04:40:33.982433",
     "exception": false,
     "start_time": "2024-11-08T04:40:23.340602",
     "status": "completed"
    },
    "tags": []
   },
   "outputs": [],
   "source": [
    "import numpy as np # linear algebra\n",
    "import pandas as pd # data processing, CSV file I/O (e.g. pd.read_csv)\n",
    "\n",
    "import os\n",
    "\n",
    "import numpy as np\n",
    "from torchvision import datasets, transforms\n",
    "import matplotlib.pyplot as plt\n",
    "from sklearn.decomposition import PCA"
   ]
  },
  {
   "cell_type": "code",
   "execution_count": 2,
   "id": "5e63cec8",
   "metadata": {
    "execution": {
     "iopub.execute_input": "2024-11-08T04:40:33.989439Z",
     "iopub.status.busy": "2024-11-08T04:40:33.988861Z",
     "iopub.status.idle": "2024-11-08T04:40:33.998477Z",
     "shell.execute_reply": "2024-11-08T04:40:33.997110Z"
    },
    "papermill": {
     "duration": 0.016572,
     "end_time": "2024-11-08T04:40:34.001641",
     "exception": false,
     "start_time": "2024-11-08T04:40:33.985069",
     "status": "completed"
    },
    "tags": []
   },
   "outputs": [],
   "source": [
    "def load_data():\n",
    "    transform = transforms.Compose([transforms.ToTensor(),\n",
    "                                    transforms.Lambda(lambda x: x.view(-1))])\n",
    "\n",
    "    train_dataset = datasets.MNIST(root='./data', train=True, download=True, transform=transform)\n",
    "    test_dataset = datasets.MNIST(root='./data', train=False, download=True, transform=transform)\n",
    "\n",
    "    x_train = train_dataset.data.numpy().reshape(-1, 784) / 255.0\n",
    "    x_test = test_dataset.data.numpy().reshape(-1, 784) / 255.0\n",
    "    \n",
    "    return x_train, x_test"
   ]
  },
  {
   "cell_type": "code",
   "execution_count": 3,
   "id": "f5174855",
   "metadata": {
    "execution": {
     "iopub.execute_input": "2024-11-08T04:40:34.008722Z",
     "iopub.status.busy": "2024-11-08T04:40:34.008259Z",
     "iopub.status.idle": "2024-11-08T04:40:36.707936Z",
     "shell.execute_reply": "2024-11-08T04:40:36.706589Z"
    },
    "papermill": {
     "duration": 2.706689,
     "end_time": "2024-11-08T04:40:36.710968",
     "exception": false,
     "start_time": "2024-11-08T04:40:34.004279",
     "status": "completed"
    },
    "tags": []
   },
   "outputs": [
    {
     "name": "stdout",
     "output_type": "stream",
     "text": [
      "Downloading http://yann.lecun.com/exdb/mnist/train-images-idx3-ubyte.gz\n",
      "Failed to download (trying next):\n",
      "<urlopen error [SSL: CERTIFICATE_VERIFY_FAILED] certificate verify failed: certificate has expired (_ssl.c:1007)>\n",
      "\n",
      "Downloading https://ossci-datasets.s3.amazonaws.com/mnist/train-images-idx3-ubyte.gz\n",
      "Downloading https://ossci-datasets.s3.amazonaws.com/mnist/train-images-idx3-ubyte.gz to ./data/MNIST/raw/train-images-idx3-ubyte.gz\n"
     ]
    },
    {
     "name": "stderr",
     "output_type": "stream",
     "text": [
      "100%|██████████| 9912422/9912422 [00:00<00:00, 47502069.43it/s]\n"
     ]
    },
    {
     "name": "stdout",
     "output_type": "stream",
     "text": [
      "Extracting ./data/MNIST/raw/train-images-idx3-ubyte.gz to ./data/MNIST/raw\n",
      "\n",
      "Downloading http://yann.lecun.com/exdb/mnist/train-labels-idx1-ubyte.gz\n",
      "Failed to download (trying next):\n",
      "<urlopen error [SSL: CERTIFICATE_VERIFY_FAILED] certificate verify failed: certificate has expired (_ssl.c:1007)>\n",
      "\n",
      "Downloading https://ossci-datasets.s3.amazonaws.com/mnist/train-labels-idx1-ubyte.gz\n",
      "Downloading https://ossci-datasets.s3.amazonaws.com/mnist/train-labels-idx1-ubyte.gz to ./data/MNIST/raw/train-labels-idx1-ubyte.gz\n"
     ]
    },
    {
     "name": "stderr",
     "output_type": "stream",
     "text": [
      "100%|██████████| 28881/28881 [00:00<00:00, 1514726.33it/s]"
     ]
    },
    {
     "name": "stdout",
     "output_type": "stream",
     "text": [
      "Extracting ./data/MNIST/raw/train-labels-idx1-ubyte.gz to ./data/MNIST/raw\n",
      "\n",
      "Downloading http://yann.lecun.com/exdb/mnist/t10k-images-idx3-ubyte.gz\n"
     ]
    },
    {
     "name": "stderr",
     "output_type": "stream",
     "text": [
      "\n"
     ]
    },
    {
     "name": "stdout",
     "output_type": "stream",
     "text": [
      "Failed to download (trying next):\n",
      "<urlopen error [SSL: CERTIFICATE_VERIFY_FAILED] certificate verify failed: certificate has expired (_ssl.c:1007)>\n",
      "\n",
      "Downloading https://ossci-datasets.s3.amazonaws.com/mnist/t10k-images-idx3-ubyte.gz\n",
      "Downloading https://ossci-datasets.s3.amazonaws.com/mnist/t10k-images-idx3-ubyte.gz to ./data/MNIST/raw/t10k-images-idx3-ubyte.gz\n"
     ]
    },
    {
     "name": "stderr",
     "output_type": "stream",
     "text": [
      "100%|██████████| 1648877/1648877 [00:00<00:00, 13372904.93it/s]\n"
     ]
    },
    {
     "name": "stdout",
     "output_type": "stream",
     "text": [
      "Extracting ./data/MNIST/raw/t10k-images-idx3-ubyte.gz to ./data/MNIST/raw\n",
      "\n",
      "Downloading http://yann.lecun.com/exdb/mnist/t10k-labels-idx1-ubyte.gz\n",
      "Failed to download (trying next):\n",
      "<urlopen error [SSL: CERTIFICATE_VERIFY_FAILED] certificate verify failed: certificate has expired (_ssl.c:1007)>\n",
      "\n",
      "Downloading https://ossci-datasets.s3.amazonaws.com/mnist/t10k-labels-idx1-ubyte.gz\n",
      "Downloading https://ossci-datasets.s3.amazonaws.com/mnist/t10k-labels-idx1-ubyte.gz to ./data/MNIST/raw/t10k-labels-idx1-ubyte.gz\n"
     ]
    },
    {
     "name": "stderr",
     "output_type": "stream",
     "text": [
      "100%|██████████| 4542/4542 [00:00<00:00, 1629085.75it/s]"
     ]
    },
    {
     "name": "stdout",
     "output_type": "stream",
     "text": [
      "Extracting ./data/MNIST/raw/t10k-labels-idx1-ubyte.gz to ./data/MNIST/raw\n",
      "\n"
     ]
    },
    {
     "name": "stderr",
     "output_type": "stream",
     "text": [
      "\n"
     ]
    }
   ],
   "source": [
    "# 1. Load data\n",
    "X_train, X_test = load_data()\n",
    "\n",
    "# 2. Initialize weights and biases (Students need to implement)\n",
    "\n",
    "# Example: W1 = np.random.randn(512, 784) * 0.01\n",
    "# Hint: Use np.zeros for biases\n",
    "\n",
    "W1 = np.random.randn(784, 512) * 0.01\n",
    "B1 = np.zeros(512)\n",
    "\n",
    "W2 = np.random.randn(512, 256) * 0.01 \n",
    "B2 = np.zeros(256) \n",
    "\n",
    "W3 = np.random.randn(256, 128) * 0.01\n",
    "B3 = np.zeros(128) \n",
    "\n",
    "# 3. Define activation functions (Students need to implement)\n",
    "def relu(x):\n",
    "    return np.max(0, x) \n",
    "\n",
    "def sigmoid(x):\n",
    "    return 1 / (1 + np.exp(-x)) \n",
    "\n",
    "# 4. Implement forward pass (Encoder + Decoder) - Students need to implement\n",
    "# def forward(x):\n",
    "#     # Encoder: multiple layers with ReLU activation\n",
    "#     # Decoder: multiple layers with ReLU/Sigmoid activation for reconstruction\n",
    "#     return z.T, x_reconstructed.T\n",
    "\n",
    "# 5. Compute Mean Squared Error Loss (Students need to implement)\n",
    "def mse_loss(x, x_reconstructed):\n",
    "    return np.mean((x - x_reconstructed)**2)\n",
    "\n",
    "# 6. Implement backpropagation and weight updates - Students need to implement\n",
    "# def backward(x, h1, h2, z, h3, h4, x_reconstructed, lr=0.001):\n",
    "#     # Compute gradients and update weights and biases\n",
    "#     pass\n",
    "\n",
    "# 7. Implement training loop - Students need to implement\n",
    "# def train(x_train, epochs=100, lr=0.001):\n",
    "#     # Train the network and collect loss and latent codes\n",
    "#     return losses, latent_codes, reconstructed_data\n",
    "\n",
    "# Train the model (Uncomment once students complete the train function)\n",
    "# losses, latent_codes, reconstructed_data = train(x_train)\n",
    "\n",
    "# 8. Plot the loss curve\n",
    "def plot_loss_curve(losses):\n",
    "    plt.figure(figsize=(8, 6))\n",
    "    plt.plot(losses, label='MSE Loss')\n",
    "    plt.xlabel('Epoch')\n",
    "    plt.ylabel('Loss')\n",
    "    plt.title('Loss Curve')\n",
    "    plt.legend()\n",
    "    plt.show()\n",
    "\n",
    "# Uncomment after training to plot the loss curve\n",
    "# plot_loss_curve(losses)\n",
    "\n",
    "# 9. Visualize latent codes using PCA\n",
    "def visualize_latent_space(latent_codes):\n",
    "    pca = PCA(n_components=2)\n",
    "    reduced_codes = pca.fit_transform(latent_codes)\n",
    "    plt.figure(figsize=(8, 6))\n",
    "    plt.scatter(reduced_codes[:, 0], reduced_codes[:, 1], s=5, alpha=0.6)\n",
    "    plt.title('Latent Space Visualization (PCA)')\n",
    "    plt.xlabel('Component 1')\n",
    "    plt.ylabel('Component 2')\n",
    "    plt.show()\n",
    "\n",
    "# Uncomment after training to visualize latent space\n",
    "# visualize_latent_space(latent_codes)\n",
    "\n",
    "# 10. Show original and reconstructed images side by side\n",
    "def show_images(original, reconstructed, n=10):\n",
    "    plt.figure(figsize=(20, 4))\n",
    "    for i in range(n):\n",
    "        ax = plt.subplot(2, n, i + 1)\n",
    "        plt.imshow(original[i].reshape(28, 28), cmap='gray')\n",
    "        plt.axis('off')\n",
    "\n",
    "        ax = plt.subplot(2, n, i + 1 + n)\n",
    "        plt.imshow(reconstructed[i].reshape(28, 28), cmap='gray')\n",
    "        plt.axis('off')\n",
    "    plt.show()\n",
    "\n",
    "# Uncomment after training to show images\n",
    "# show_images(x_train, reconstructed_data)"
   ]
  }
 ],
 "metadata": {
  "kaggle": {
   "accelerator": "none",
   "dataSources": [],
   "dockerImageVersionId": 30786,
   "isGpuEnabled": false,
   "isInternetEnabled": true,
   "language": "python",
   "sourceType": "notebook"
  },
  "kernelspec": {
   "display_name": "Python 3",
   "language": "python",
   "name": "python3"
  },
  "language_info": {
   "codemirror_mode": {
    "name": "ipython",
    "version": 3
   },
   "file_extension": ".py",
   "mimetype": "text/x-python",
   "name": "python",
   "nbconvert_exporter": "python",
   "pygments_lexer": "ipython3",
   "version": "3.10.14"
  },
  "papermill": {
   "default_parameters": {},
   "duration": 18.588604,
   "end_time": "2024-11-08T04:40:38.242868",
   "environment_variables": {},
   "exception": null,
   "input_path": "__notebook__.ipynb",
   "output_path": "__notebook__.ipynb",
   "parameters": {},
   "start_time": "2024-11-08T04:40:19.654264",
   "version": "2.6.0"
  }
 },
 "nbformat": 4,
 "nbformat_minor": 5
}
