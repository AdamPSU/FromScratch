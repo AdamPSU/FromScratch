{
 "cells": [
  {
   "cell_type": "code",
   "execution_count": 1,
   "id": "04918173",
   "metadata": {
    "_cell_guid": "b1076dfc-b9ad-4769-8c92-a6c4dae69d19",
    "_uuid": "8f2839f25d086af736a60e9eeb907d3b93b6e0e5",
    "execution": {
     "iopub.execute_input": "2024-09-26T03:08:55.676935Z",
     "iopub.status.busy": "2024-09-26T03:08:55.676437Z",
     "iopub.status.idle": "2024-09-26T03:08:56.824442Z",
     "shell.execute_reply": "2024-09-26T03:08:56.822681Z"
    },
    "papermill": {
     "duration": 1.15633,
     "end_time": "2024-09-26T03:08:56.827664",
     "exception": false,
     "start_time": "2024-09-26T03:08:55.671334",
     "status": "completed"
    },
    "tags": []
   },
   "outputs": [],
   "source": [
    "import numpy as np # linear algebra\n",
    "import pandas as pd # data processing, CSV file I/O (e.g. pd.read_csv)\n",
    "import os"
   ]
  },
  {
   "cell_type": "code",
   "execution_count": 2,
   "id": "a8e9ba51",
   "metadata": {
    "execution": {
     "iopub.execute_input": "2024-09-26T03:08:56.834991Z",
     "iopub.status.busy": "2024-09-26T03:08:56.834386Z",
     "iopub.status.idle": "2024-09-26T03:08:56.842084Z",
     "shell.execute_reply": "2024-09-26T03:08:56.840608Z"
    },
    "papermill": {
     "duration": 0.014735,
     "end_time": "2024-09-26T03:08:56.845136",
     "exception": false,
     "start_time": "2024-09-26T03:08:56.830401",
     "status": "completed"
    },
    "tags": []
   },
   "outputs": [],
   "source": [
    "def step_function(z): \n",
    "    \"\"\"\n",
    "    Implements the Heaviside activation function\n",
    "    for a given linear function z. An activation function\n",
    "    aims to introduce non-linearity to a system, enabling\n",
    "    the system to capture more complex patterns. \n",
    "    \n",
    "    As is the case for the Heaviside function, some activation \n",
    "    functions have the effect of normalizing the output layer \n",
    "    between 0 and 1. \n",
    "    \"\"\"\n",
    "    \n",
    "    return np.where(z < 0, 0, 1) "
   ]
  },
  {
   "cell_type": "code",
   "execution_count": 3,
   "id": "1332f3d5",
   "metadata": {
    "execution": {
     "iopub.execute_input": "2024-09-26T03:08:56.852651Z",
     "iopub.status.busy": "2024-09-26T03:08:56.851463Z",
     "iopub.status.idle": "2024-09-26T03:08:56.861345Z",
     "shell.execute_reply": "2024-09-26T03:08:56.859968Z"
    },
    "papermill": {
     "duration": 0.016946,
     "end_time": "2024-09-26T03:08:56.864519",
     "exception": false,
     "start_time": "2024-09-26T03:08:56.847573",
     "status": "completed"
    },
    "tags": []
   },
   "outputs": [],
   "source": [
    "class Perceptron:\n",
    "    def __init__(self, input_size, learning_rate=0.01, epochs=100):\n",
    "        pass\n",
    "\n",
    "    def activate(self, x):\n",
    "        pass\n",
    "\n",
    "    def predict(self, X):\n",
    "        pass\n",
    "\n",
    "    def train(self, X, y):\n",
    "        pass\n",
    "\n",
    "    def fit(self, X, y):\n",
    "        pass\n",
    "\n",
    "    def score(self, X, y):\n",
    "        pass\n",
    "\n",
    "    def get_weights(self):\n",
    "        pass\n",
    "\n",
    "    def set_weights(self, weights):\n",
    "        pass\n",
    "\n",
    "    def reset(self):\n",
    "        pass"
   ]
  }
 ],
 "metadata": {
  "kaggle": {
   "accelerator": "none",
   "dataSources": [],
   "dockerImageVersionId": 30775,
   "isGpuEnabled": false,
   "isInternetEnabled": true,
   "language": "python",
   "sourceType": "notebook"
  },
  "kernelspec": {
   "display_name": "Python 3",
   "language": "python",
   "name": "python3"
  },
  "language_info": {
   "codemirror_mode": {
    "name": "ipython",
    "version": 3
   },
   "file_extension": ".py",
   "mimetype": "text/x-python",
   "name": "python",
   "nbconvert_exporter": "python",
   "pygments_lexer": "ipython3",
   "version": "3.10.14"
  },
  "papermill": {
   "default_parameters": {},
   "duration": 5.34474,
   "end_time": "2024-09-26T03:08:57.490891",
   "environment_variables": {},
   "exception": null,
   "input_path": "__notebook__.ipynb",
   "output_path": "__notebook__.ipynb",
   "parameters": {},
   "start_time": "2024-09-26T03:08:52.146151",
   "version": "2.6.0"
  }
 },
 "nbformat": 4,
 "nbformat_minor": 5
}
