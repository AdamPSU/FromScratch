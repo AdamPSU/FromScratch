{
 "cells": [
  {
   "cell_type": "code",
   "execution_count": 1,
   "id": "d4de7a40",
   "metadata": {
    "_cell_guid": "b1076dfc-b9ad-4769-8c92-a6c4dae69d19",
    "_uuid": "8f2839f25d086af736a60e9eeb907d3b93b6e0e5",
    "execution": {
     "iopub.execute_input": "2024-09-27T23:36:45.018352Z",
     "iopub.status.busy": "2024-09-27T23:36:45.017925Z",
     "iopub.status.idle": "2024-09-27T23:36:45.905850Z",
     "shell.execute_reply": "2024-09-27T23:36:45.904724Z"
    },
    "papermill": {
     "duration": 0.895473,
     "end_time": "2024-09-27T23:36:45.908810",
     "exception": false,
     "start_time": "2024-09-27T23:36:45.013337",
     "status": "completed"
    },
    "tags": []
   },
   "outputs": [],
   "source": [
    "import numpy as np # linear algebra\n",
    "import pandas as pd # data processing, CSV file I/O (e.g. pd.read_csv)\n",
    "import os"
   ]
  },
  {
   "cell_type": "code",
   "execution_count": 2,
   "id": "0fc51b3f",
   "metadata": {
    "execution": {
     "iopub.execute_input": "2024-09-27T23:36:45.915840Z",
     "iopub.status.busy": "2024-09-27T23:36:45.915300Z",
     "iopub.status.idle": "2024-09-27T23:36:45.924369Z",
     "shell.execute_reply": "2024-09-27T23:36:45.923216Z"
    },
    "papermill": {
     "duration": 0.015269,
     "end_time": "2024-09-27T23:36:45.926794",
     "exception": false,
     "start_time": "2024-09-27T23:36:45.911525",
     "status": "completed"
    },
    "tags": []
   },
   "outputs": [],
   "source": [
    "def _step_function(weighted_sum, threshold): \n",
    "    \"\"\"\n",
    "    Implements the signum activation function\n",
    "    for a given weighted sum. An activation function\n",
    "    aims to introduce non-linearity to a system, enabling\n",
    "    the system to capture more complex patterns. \n",
    "    \n",
    "    The signum activation function normalizes the output layer\n",
    "    into one of three values: -1, 0, or 1. \n",
    "    \"\"\"\n",
    "    \n",
    "    if weighted_sum > threshold:\n",
    "        return 1 \n",
    "    \n",
    "    elif weighted_sum < -threshold: \n",
    "        return -1\n",
    "    \n",
    "    return 0\n",
    "    \n",
    "    heaviside = np.where(weighted_sum < 0, 0, 1)\n",
    "    signum = 2 * heaviside - 1\n",
    "    \n",
    "    return signum \n",
    "\n",
    "\n",
    "def _weighted_sum(feature_space, weight_vector, bias):\n",
    "    \"\"\"\n",
    "    Helper function to calculate the matrix-vector \n",
    "    multiplication between the feature space and the \n",
    "    weight vector, plus a bias. \n",
    "    \"\"\"\n",
    "\n",
    "    weighted_sum = np.dot(feature_space, weight_vector) + bias\n",
    "\n",
    "    return weighted_sum \n",
    "\n",
    "\n",
    "def _mean_squared_error(y_true, y_pred): \n",
    "    return np.mean((y_true - y_pred)**2)\n"
   ]
  },
  {
   "cell_type": "code",
   "execution_count": 3,
   "id": "94d5d611",
   "metadata": {
    "execution": {
     "iopub.execute_input": "2024-09-27T23:36:45.933431Z",
     "iopub.status.busy": "2024-09-27T23:36:45.932981Z",
     "iopub.status.idle": "2024-09-27T23:36:45.943890Z",
     "shell.execute_reply": "2024-09-27T23:36:45.942920Z"
    },
    "papermill": {
     "duration": 0.017055,
     "end_time": "2024-09-27T23:36:45.946358",
     "exception": false,
     "start_time": "2024-09-27T23:36:45.929303",
     "status": "completed"
    },
    "tags": []
   },
   "outputs": [],
   "source": [
    "class Perceptron:\n",
    "    def __init__(self, learning_rate=0.01, epochs=5):\n",
    "        self.learning_rate = learning_rate\n",
    "        self.epochs = epochs \n",
    "                \n",
    "        self.X = None \n",
    "        self.y = None \n",
    "        \n",
    "        self.weights = None \n",
    "        self.bias = None \n",
    "\n",
    "    def predict(self, X):\n",
    "        weighted_sum = _weighted_sum(X, self.weights, self.bias)\n",
    "        activated_sum = _step_function(weighted_sum)\n",
    "        \n",
    "        return activated_sum\n",
    "\n",
    "    def train(self, X, y):\n",
    "        features = X.columns\n",
    "        \n",
    "        print(type(features))\n",
    "        for epoch in range(self.epochs):\n",
    "            for feature_name in features: \n",
    "                y_pred = self.predict(X[feature_name])\n",
    "                     \n",
    "                # Apply GD \n",
    "                print('idk what to do here')\n",
    "            \n",
    "    def fit(self, X, y):\n",
    "        self.X = X\n",
    "        self.y = y\n",
    "        \n",
    "        # Weights and bias are chosen randomly at first to break symmetry\n",
    "        self.weights = np.random.uniform(-0.01, 0.01, size=X.shape[1])\n",
    "        self.bias = np.random.uniform(-0.01, 0.01)"
   ]
  }
 ],
 "metadata": {
  "kaggle": {
   "accelerator": "none",
   "dataSources": [
    {
     "databundleVersionId": 7405009,
     "sourceId": 65711,
     "sourceType": "competition"
    }
   ],
   "dockerImageVersionId": 30775,
   "isGpuEnabled": false,
   "isInternetEnabled": true,
   "language": "python",
   "sourceType": "notebook"
  },
  "kernelspec": {
   "display_name": "Python 3",
   "language": "python",
   "name": "python3"
  },
  "language_info": {
   "codemirror_mode": {
    "name": "ipython",
    "version": 3
   },
   "file_extension": ".py",
   "mimetype": "text/x-python",
   "name": "python",
   "nbconvert_exporter": "python",
   "pygments_lexer": "ipython3",
   "version": "3.10.14"
  },
  "papermill": {
   "default_parameters": {},
   "duration": 4.521356,
   "end_time": "2024-09-27T23:36:46.468830",
   "environment_variables": {},
   "exception": null,
   "input_path": "__notebook__.ipynb",
   "output_path": "__notebook__.ipynb",
   "parameters": {},
   "start_time": "2024-09-27T23:36:41.947474",
   "version": "2.6.0"
  }
 },
 "nbformat": 4,
 "nbformat_minor": 5
}
