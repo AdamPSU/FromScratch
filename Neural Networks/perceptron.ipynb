{
 "cells": [
  {
   "cell_type": "code",
   "execution_count": 1,
   "id": "7eae4b9f",
   "metadata": {
    "_cell_guid": "b1076dfc-b9ad-4769-8c92-a6c4dae69d19",
    "_uuid": "8f2839f25d086af736a60e9eeb907d3b93b6e0e5",
    "execution": {
     "iopub.execute_input": "2024-10-03T02:07:28.750488Z",
     "iopub.status.busy": "2024-10-03T02:07:28.750045Z",
     "iopub.status.idle": "2024-10-03T02:07:29.748401Z",
     "shell.execute_reply": "2024-10-03T02:07:29.746929Z"
    },
    "papermill": {
     "duration": 1.007191,
     "end_time": "2024-10-03T02:07:29.751811",
     "exception": false,
     "start_time": "2024-10-03T02:07:28.744620",
     "status": "completed"
    },
    "tags": []
   },
   "outputs": [],
   "source": [
    "import numpy as np # linear algebra\n",
    "import pandas as pd # data processing, CSV file I/O (e.g. pd.read_csv)\n",
    "import os"
   ]
  },
  {
   "cell_type": "code",
   "execution_count": 2,
   "id": "14f78fa4",
   "metadata": {
    "execution": {
     "iopub.execute_input": "2024-10-03T02:07:29.760319Z",
     "iopub.status.busy": "2024-10-03T02:07:29.759726Z",
     "iopub.status.idle": "2024-10-03T02:07:30.249598Z",
     "shell.execute_reply": "2024-10-03T02:07:30.248294Z"
    },
    "papermill": {
     "duration": 0.497331,
     "end_time": "2024-10-03T02:07:30.252574",
     "exception": false,
     "start_time": "2024-10-03T02:07:29.755243",
     "status": "completed"
    },
    "tags": []
   },
   "outputs": [],
   "source": [
    "from scipy.io import loadmat\n",
    "\n",
    "mat_data = loadmat(\"/kaggle/input/perceptron-data/Data set A.mat.mat\")\n",
    "\n",
    "X = mat_data['X']\n",
    "y = mat_data['Y']"
   ]
  },
  {
   "cell_type": "code",
   "execution_count": 3,
   "id": "8ab1a22e",
   "metadata": {
    "execution": {
     "iopub.execute_input": "2024-10-03T02:07:30.261215Z",
     "iopub.status.busy": "2024-10-03T02:07:30.260489Z",
     "iopub.status.idle": "2024-10-03T02:07:30.270979Z",
     "shell.execute_reply": "2024-10-03T02:07:30.269983Z"
    },
    "papermill": {
     "duration": 0.017867,
     "end_time": "2024-10-03T02:07:30.273696",
     "exception": false,
     "start_time": "2024-10-03T02:07:30.255829",
     "status": "completed"
    },
    "tags": []
   },
   "outputs": [],
   "source": [
    "def _step_function(weighted_sum, threshold): \n",
    "    \"\"\"\n",
    "    Implements the signum activation function\n",
    "    for a given weighted sum. An activation function\n",
    "    aims to introduce non-linearity to a system, enabling\n",
    "    the system to capture more complex patterns. \n",
    "    \n",
    "    The signum activation function normalizes the output layer\n",
    "    into one of two values: -1, 1. \n",
    "    \"\"\"\n",
    "    \n",
    "    return np.where(weighted_sum >= threshold, 1, -1)\n",
    "    \n",
    "# def _weighted_sum(feature_space, weight_vector, bias=0):\n",
    "#     \"\"\"\n",
    "#     Helper function to calculate the matrix-vector \n",
    "#     multiplication between the feature space and the \n",
    "#     weight vector, plus a bias. \n",
    "#     \"\"\"\n",
    "\n",
    "#     if len(feature_space.shape) == 1:\n",
    "#         # Handle 1D input \n",
    "#         result = bias\n",
    "        \n",
    "#         for i in range(len(feature_space)):\n",
    "#             result += feature_space[i] * weight_vector[i]\n",
    "                \n",
    "#     else:\n",
    "#         # Handle 2D input\n",
    "#         num_samples, num_features = feature_space.shape\n",
    "#         result = [bias] * num_samples\n",
    "        \n",
    "#         for i in range(num_samples):\n",
    "#             for j in range(num_features):\n",
    "#                 result[i] += feature_space[i][j] * weight_vector[j]\n",
    "    \n",
    "#     return np.array(result)\n",
    "\n",
    "\n",
    "def _weighted_sum(feature_space, weight_vector, bias=0):\n",
    "    \"\"\"\n",
    "    Helper function to calculate the matrix-vector \n",
    "    multiplication between the feature space and the \n",
    "    weight vector, plus a bias. \n",
    "    \"\"\"\n",
    "\n",
    "    return np.dot(feature_space, weight_vector) + bias"
   ]
  },
  {
   "cell_type": "code",
   "execution_count": 4,
   "id": "aab6a228",
   "metadata": {
    "execution": {
     "iopub.execute_input": "2024-10-03T02:07:30.282092Z",
     "iopub.status.busy": "2024-10-03T02:07:30.281571Z",
     "iopub.status.idle": "2024-10-03T02:07:30.294495Z",
     "shell.execute_reply": "2024-10-03T02:07:30.293227Z"
    },
    "papermill": {
     "duration": 0.020391,
     "end_time": "2024-10-03T02:07:30.297341",
     "exception": false,
     "start_time": "2024-10-03T02:07:30.276950",
     "status": "completed"
    },
    "tags": []
   },
   "outputs": [],
   "source": [
    "class Perceptron:    \n",
    "    def __init__(self, learning_rate=0.3, epochs=100, threshold=0):\n",
    "        self.learning_rate = learning_rate\n",
    "        self.epochs = epochs \n",
    "        self.threshold = threshold \n",
    "\n",
    "        self.weights = None \n",
    "        self.bias = None \n",
    "\n",
    "    def predict(self, X):        \n",
    "        weighted_sum = _weighted_sum(X, self.weights, self.bias)\n",
    "        activated_sum = _step_function(weighted_sum, self.threshold)\n",
    "\n",
    "        return activated_sum\n",
    "\n",
    "    def fit(self, X, y):\n",
    "        num_samples, num_features = X.shape\n",
    "        epoch = 0\n",
    "        converged = False \n",
    "        \n",
    "        self.weights = np.random.uniform(-0.01, 0.01, size=num_features)\n",
    "        self.bias = 0\n",
    "        \n",
    "        while not converged and epoch < self.epochs:              \n",
    "            epoch += 1 \n",
    "            error_sum = 0 \n",
    "            \n",
    "            for i in range(num_samples):\n",
    "                x_i, y_i = X[i], y[i]\n",
    "                y_pred = self.predict(x_i)\n",
    "                \n",
    "                error = y_i - y_pred\n",
    "                error_sum += error**2\n",
    "                \n",
    "                if error != 0: \n",
    "                    self.weights += self.learning_rate * y_i * x_i\n",
    "                    self.bias += self.learning_rate * y_i\n",
    "            \n",
    "            if error_sum == 0: \n",
    "                converged = True"
   ]
  },
  {
   "cell_type": "code",
   "execution_count": 5,
   "id": "e9e9aaf9",
   "metadata": {
    "execution": {
     "iopub.execute_input": "2024-10-03T02:07:30.305328Z",
     "iopub.status.busy": "2024-10-03T02:07:30.304847Z",
     "iopub.status.idle": "2024-10-03T02:07:30.359038Z",
     "shell.execute_reply": "2024-10-03T02:07:30.357341Z"
    },
    "papermill": {
     "duration": 0.061415,
     "end_time": "2024-10-03T02:07:30.361916",
     "exception": false,
     "start_time": "2024-10-03T02:07:30.300501",
     "status": "completed"
    },
    "tags": []
   },
   "outputs": [],
   "source": [
    "model = Perceptron(epochs=10, learning_rate=10)\n",
    "model.fit(X, y)"
   ]
  }
 ],
 "metadata": {
  "kaggle": {
   "accelerator": "none",
   "dataSources": [
    {
     "databundleVersionId": 7405009,
     "sourceId": 65711,
     "sourceType": "competition"
    },
    {
     "datasetId": 5799733,
     "sourceId": 9524622,
     "sourceType": "datasetVersion"
    }
   ],
   "dockerImageVersionId": 30775,
   "isGpuEnabled": false,
   "isInternetEnabled": true,
   "language": "python",
   "sourceType": "notebook"
  },
  "kernelspec": {
   "display_name": "Python 3",
   "language": "python",
   "name": "python3"
  },
  "language_info": {
   "codemirror_mode": {
    "name": "ipython",
    "version": 3
   },
   "file_extension": ".py",
   "mimetype": "text/x-python",
   "name": "python",
   "nbconvert_exporter": "python",
   "pygments_lexer": "ipython3",
   "version": "3.10.14"
  },
  "papermill": {
   "default_parameters": {},
   "duration": 5.458388,
   "end_time": "2024-10-03T02:07:30.886815",
   "environment_variables": {},
   "exception": null,
   "input_path": "__notebook__.ipynb",
   "output_path": "__notebook__.ipynb",
   "parameters": {},
   "start_time": "2024-10-03T02:07:25.428427",
   "version": "2.6.0"
  }
 },
 "nbformat": 4,
 "nbformat_minor": 5
}
