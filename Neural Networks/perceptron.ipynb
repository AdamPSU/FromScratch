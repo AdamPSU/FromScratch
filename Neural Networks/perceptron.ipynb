{
 "cells": [
  {
   "cell_type": "code",
   "execution_count": 1,
   "id": "4081c47e",
   "metadata": {
    "_cell_guid": "b1076dfc-b9ad-4769-8c92-a6c4dae69d19",
    "_uuid": "8f2839f25d086af736a60e9eeb907d3b93b6e0e5",
    "execution": {
     "iopub.execute_input": "2024-09-27T03:15:07.862318Z",
     "iopub.status.busy": "2024-09-27T03:15:07.860973Z",
     "iopub.status.idle": "2024-09-27T03:15:08.867496Z",
     "shell.execute_reply": "2024-09-27T03:15:08.866231Z"
    },
    "papermill": {
     "duration": 1.015253,
     "end_time": "2024-09-27T03:15:08.870624",
     "exception": false,
     "start_time": "2024-09-27T03:15:07.855371",
     "status": "completed"
    },
    "tags": []
   },
   "outputs": [],
   "source": [
    "import numpy as np # linear algebra\n",
    "import pandas as pd # data processing, CSV file I/O (e.g. pd.read_csv)\n",
    "import os"
   ]
  },
  {
   "cell_type": "code",
   "execution_count": 2,
   "id": "17f923aa",
   "metadata": {
    "execution": {
     "iopub.execute_input": "2024-09-27T03:15:08.878241Z",
     "iopub.status.busy": "2024-09-27T03:15:08.877643Z",
     "iopub.status.idle": "2024-09-27T03:15:08.886430Z",
     "shell.execute_reply": "2024-09-27T03:15:08.885114Z"
    },
    "papermill": {
     "duration": 0.015381,
     "end_time": "2024-09-27T03:15:08.889034",
     "exception": false,
     "start_time": "2024-09-27T03:15:08.873653",
     "status": "completed"
    },
    "tags": []
   },
   "outputs": [],
   "source": [
    "def _step_function(weighted_sum): \n",
    "    \"\"\"\n",
    "    Implements the Heaviside activation function\n",
    "    for a given weighted sum. An activation function\n",
    "    aims to introduce non-linearity to a system, enabling\n",
    "    the system to capture more complex patterns. \n",
    "    \n",
    "    As is the case for the Heaviside function, some activation \n",
    "    functions have the effect of normalizing the output layer \n",
    "    between 0 and 1. \n",
    "    \"\"\"\n",
    "    \n",
    "    return np.where(weighted_sum < 0, 0, 1) \n",
    "\n",
    "\n",
    "def _weighted_sum(feature_space, weight_vector, bias):\n",
    "    \"\"\"\n",
    "    Helper function to calculate the matrix-vector \n",
    "    multiplication between the feature space and the \n",
    "    weight vector, plus a bias. \n",
    "    \"\"\"\n",
    "\n",
    "    weighted_sum = np.dot(feature_space, weight_vector) + bias\n",
    "\n",
    "    return weighted_sum \n",
    "\n",
    "\n",
    "def _mean_squared_error(y_true, y_pred): \n",
    "    return np.mean((y_true - y_pred)**2)\n"
   ]
  },
  {
   "cell_type": "code",
   "execution_count": 3,
   "id": "cbec7475",
   "metadata": {
    "execution": {
     "iopub.execute_input": "2024-09-27T03:15:08.895864Z",
     "iopub.status.busy": "2024-09-27T03:15:08.895417Z",
     "iopub.status.idle": "2024-09-27T03:15:08.906653Z",
     "shell.execute_reply": "2024-09-27T03:15:08.905380Z"
    },
    "papermill": {
     "duration": 0.017546,
     "end_time": "2024-09-27T03:15:08.909127",
     "exception": false,
     "start_time": "2024-09-27T03:15:08.891581",
     "status": "completed"
    },
    "tags": []
   },
   "outputs": [],
   "source": [
    "class Perceptron:\n",
    "    def __init__(self, learning_rate=0.01, epochs=5):\n",
    "        self.learning_rate = learning_rate\n",
    "        self.epochs = epochs \n",
    "                \n",
    "        self.X = None \n",
    "        self.y = None \n",
    "        \n",
    "        self.weights = None \n",
    "        self.bias = None \n",
    "\n",
    "    def predict(self, X):\n",
    "        weighted_sum = _weighted_sum(X, self.weights, self.bias)\n",
    "        activated_sum = _step_function(weighted_sum)\n",
    "        \n",
    "        return activated_sum\n",
    "\n",
    "    def train(self, X, y):\n",
    "        features = X.columns\n",
    "        \n",
    "        print(type(features))\n",
    "        for epoch in range(self.epochs):\n",
    "            for feature_name in features: \n",
    "                y_pred = self.predict(X[feature_name])\n",
    "                     \n",
    "                # Apply GD \n",
    "                print('idk what to do here')\n",
    "            \n",
    "    def fit(self, X, y):\n",
    "        self.X = X\n",
    "        self.y = y\n",
    "        \n",
    "        # Weights and bias are chosen randomly at first to break symmetry\n",
    "        self.weights = np.random.uniform(-0.01, 0.01, size=X.shape[1])\n",
    "        self.bias = np.random.uniform(-0.01, 0.01)"
   ]
  }
 ],
 "metadata": {
  "kaggle": {
   "accelerator": "none",
   "dataSources": [
    {
     "databundleVersionId": 7405009,
     "sourceId": 65711,
     "sourceType": "competition"
    }
   ],
   "dockerImageVersionId": 30775,
   "isGpuEnabled": false,
   "isInternetEnabled": true,
   "language": "python",
   "sourceType": "notebook"
  },
  "kernelspec": {
   "display_name": "Python 3",
   "language": "python",
   "name": "python3"
  },
  "language_info": {
   "codemirror_mode": {
    "name": "ipython",
    "version": 3
   },
   "file_extension": ".py",
   "mimetype": "text/x-python",
   "name": "python",
   "nbconvert_exporter": "python",
   "pygments_lexer": "ipython3",
   "version": "3.10.14"
  },
  "papermill": {
   "default_parameters": {},
   "duration": 5.153413,
   "end_time": "2024-09-27T03:15:09.435093",
   "environment_variables": {},
   "exception": null,
   "input_path": "__notebook__.ipynb",
   "output_path": "__notebook__.ipynb",
   "parameters": {},
   "start_time": "2024-09-27T03:15:04.281680",
   "version": "2.6.0"
  }
 },
 "nbformat": 4,
 "nbformat_minor": 5
}
